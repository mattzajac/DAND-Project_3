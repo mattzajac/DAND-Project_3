{
 "cells": [
  {
   "cell_type": "code",
   "execution_count": 1,
   "metadata": {},
   "outputs": [],
   "source": [
    "# importing packages\n",
    "\n",
    "import numpy as np\n",
    "import pandas as pd\n",
    "import seaborn as sns\n",
    "import matplotlib.pyplot as plt\n",
    "% matplotlib inline\n",
    "\n",
    "sns.set_style('darkgrid')"
   ]
  },
  {
   "cell_type": "code",
   "execution_count": 2,
   "metadata": {},
   "outputs": [
    {
     "data": {
      "text/html": [
       "<div>\n",
       "<style scoped>\n",
       "    .dataframe tbody tr th:only-of-type {\n",
       "        vertical-align: middle;\n",
       "    }\n",
       "\n",
       "    .dataframe tbody tr th {\n",
       "        vertical-align: top;\n",
       "    }\n",
       "\n",
       "    .dataframe thead th {\n",
       "        text-align: right;\n",
       "    }\n",
       "</style>\n",
       "<table border=\"1\" class=\"dataframe\">\n",
       "  <thead>\n",
       "    <tr style=\"text-align: right;\">\n",
       "      <th></th>\n",
       "      <th>tweet_id</th>\n",
       "      <th>tweet_datetime</th>\n",
       "      <th>tweet_source</th>\n",
       "      <th>tweet_content</th>\n",
       "      <th>tweet_url</th>\n",
       "      <th>rating_numerator</th>\n",
       "      <th>rating_denominator</th>\n",
       "      <th>dog_name</th>\n",
       "      <th>dog_stage</th>\n",
       "      <th>favorite_count</th>\n",
       "      <th>retweet_count</th>\n",
       "      <th>prediction_picture</th>\n",
       "      <th>prediction_breed</th>\n",
       "      <th>prediction_confidence</th>\n",
       "    </tr>\n",
       "  </thead>\n",
       "  <tbody>\n",
       "    <tr>\n",
       "      <th>0</th>\n",
       "      <td>667443425659232256</td>\n",
       "      <td>2015-11-19 20:44:47</td>\n",
       "      <td>Twitter for iPhone</td>\n",
       "      <td>Exotic dog here. Long neck. Weird paws. Obsess...</td>\n",
       "      <td>https://twitter.com/dog_rates/status/667443425...</td>\n",
       "      <td>6.0</td>\n",
       "      <td>10.0</td>\n",
       "      <td>NaN</td>\n",
       "      <td>NaN</td>\n",
       "      <td>789</td>\n",
       "      <td>590</td>\n",
       "      <td>https://pbs.twimg.com/media/CUM8QZwW4AAVsBl.jpg</td>\n",
       "      <td>NaN</td>\n",
       "      <td>NaN</td>\n",
       "    </tr>\n",
       "    <tr>\n",
       "      <th>1</th>\n",
       "      <td>667453023279554560</td>\n",
       "      <td>2015-11-19 21:22:56</td>\n",
       "      <td>Twitter Web Client</td>\n",
       "      <td>Meet Cupcake. I would do unspeakable things fo...</td>\n",
       "      <td>https://twitter.com/dog_rates/status/667453023...</td>\n",
       "      <td>11.0</td>\n",
       "      <td>10.0</td>\n",
       "      <td>Cupcake</td>\n",
       "      <td>NaN</td>\n",
       "      <td>315</td>\n",
       "      <td>91</td>\n",
       "      <td>https://pbs.twimg.com/media/CUNE_OSUwAAdHhX.jpg</td>\n",
       "      <td>Labrador Retriever</td>\n",
       "      <td>0.825670</td>\n",
       "    </tr>\n",
       "    <tr>\n",
       "      <th>2</th>\n",
       "      <td>667455448082227200</td>\n",
       "      <td>2015-11-19 21:32:34</td>\n",
       "      <td>Twitter Web Client</td>\n",
       "      <td>This is Reese and Twips. Reese protects Twips....</td>\n",
       "      <td>https://twitter.com/dog_rates/status/667455448...</td>\n",
       "      <td>7.0</td>\n",
       "      <td>10.0</td>\n",
       "      <td>Reese</td>\n",
       "      <td>NaN</td>\n",
       "      <td>194</td>\n",
       "      <td>60</td>\n",
       "      <td>https://pbs.twimg.com/media/CUNHMXTU8AAS3HH.jpg</td>\n",
       "      <td>Tibetan Terrier</td>\n",
       "      <td>0.676376</td>\n",
       "    </tr>\n",
       "    <tr>\n",
       "      <th>3</th>\n",
       "      <td>667470559035432960</td>\n",
       "      <td>2015-11-19 22:32:36</td>\n",
       "      <td>Twitter Web Client</td>\n",
       "      <td>This is a northern Wahoo named Kohl. He runs t...</td>\n",
       "      <td>https://twitter.com/dog_rates/status/667470559...</td>\n",
       "      <td>11.0</td>\n",
       "      <td>10.0</td>\n",
       "      <td>NaN</td>\n",
       "      <td>NaN</td>\n",
       "      <td>259</td>\n",
       "      <td>100</td>\n",
       "      <td>https://pbs.twimg.com/media/CUNU78YWEAECmpB.jpg</td>\n",
       "      <td>Toy Poodle</td>\n",
       "      <td>0.304175</td>\n",
       "    </tr>\n",
       "    <tr>\n",
       "      <th>4</th>\n",
       "      <td>667491009379606528</td>\n",
       "      <td>2015-11-19 23:53:52</td>\n",
       "      <td>Twitter Web Client</td>\n",
       "      <td>Two dogs in this one. Both are rare Jujitsu Py...</td>\n",
       "      <td>https://twitter.com/dog_rates/status/667491009...</td>\n",
       "      <td>7.0</td>\n",
       "      <td>10.0</td>\n",
       "      <td>NaN</td>\n",
       "      <td>NaN</td>\n",
       "      <td>534</td>\n",
       "      <td>232</td>\n",
       "      <td>https://pbs.twimg.com/media/CUNniSlUYAEj1Jl.jpg</td>\n",
       "      <td>Borzoi</td>\n",
       "      <td>0.852088</td>\n",
       "    </tr>\n",
       "  </tbody>\n",
       "</table>\n",
       "</div>"
      ],
      "text/plain": [
       "             tweet_id       tweet_datetime        tweet_source  \\\n",
       "0  667443425659232256  2015-11-19 20:44:47  Twitter for iPhone   \n",
       "1  667453023279554560  2015-11-19 21:22:56  Twitter Web Client   \n",
       "2  667455448082227200  2015-11-19 21:32:34  Twitter Web Client   \n",
       "3  667470559035432960  2015-11-19 22:32:36  Twitter Web Client   \n",
       "4  667491009379606528  2015-11-19 23:53:52  Twitter Web Client   \n",
       "\n",
       "                                       tweet_content  \\\n",
       "0  Exotic dog here. Long neck. Weird paws. Obsess...   \n",
       "1  Meet Cupcake. I would do unspeakable things fo...   \n",
       "2  This is Reese and Twips. Reese protects Twips....   \n",
       "3  This is a northern Wahoo named Kohl. He runs t...   \n",
       "4  Two dogs in this one. Both are rare Jujitsu Py...   \n",
       "\n",
       "                                           tweet_url  rating_numerator  \\\n",
       "0  https://twitter.com/dog_rates/status/667443425...               6.0   \n",
       "1  https://twitter.com/dog_rates/status/667453023...              11.0   \n",
       "2  https://twitter.com/dog_rates/status/667455448...               7.0   \n",
       "3  https://twitter.com/dog_rates/status/667470559...              11.0   \n",
       "4  https://twitter.com/dog_rates/status/667491009...               7.0   \n",
       "\n",
       "   rating_denominator dog_name dog_stage  favorite_count  retweet_count  \\\n",
       "0                10.0      NaN       NaN             789            590   \n",
       "1                10.0  Cupcake       NaN             315             91   \n",
       "2                10.0    Reese       NaN             194             60   \n",
       "3                10.0      NaN       NaN             259            100   \n",
       "4                10.0      NaN       NaN             534            232   \n",
       "\n",
       "                                prediction_picture    prediction_breed  \\\n",
       "0  https://pbs.twimg.com/media/CUM8QZwW4AAVsBl.jpg                 NaN   \n",
       "1  https://pbs.twimg.com/media/CUNE_OSUwAAdHhX.jpg  Labrador Retriever   \n",
       "2  https://pbs.twimg.com/media/CUNHMXTU8AAS3HH.jpg     Tibetan Terrier   \n",
       "3  https://pbs.twimg.com/media/CUNU78YWEAECmpB.jpg          Toy Poodle   \n",
       "4  https://pbs.twimg.com/media/CUNniSlUYAEj1Jl.jpg              Borzoi   \n",
       "\n",
       "   prediction_confidence  \n",
       "0                    NaN  \n",
       "1               0.825670  \n",
       "2               0.676376  \n",
       "3               0.304175  \n",
       "4               0.852088  "
      ]
     },
     "execution_count": 2,
     "metadata": {},
     "output_type": "execute_result"
    }
   ],
   "source": [
    "# loading data\n",
    "df = pd.read_csv('twitter_archive_master.csv')\n",
    "df.head()"
   ]
  },
  {
   "cell_type": "code",
   "execution_count": 3,
   "metadata": {},
   "outputs": [
    {
     "name": "stdout",
     "output_type": "stream",
     "text": [
      "<class 'pandas.core.frame.DataFrame'>\n",
      "RangeIndex: 1993 entries, 0 to 1992\n",
      "Data columns (total 14 columns):\n",
      "tweet_id                 1993 non-null int64\n",
      "tweet_datetime           1993 non-null object\n",
      "tweet_source             1993 non-null object\n",
      "tweet_content            1993 non-null object\n",
      "tweet_url                1993 non-null object\n",
      "rating_numerator         1993 non-null float64\n",
      "rating_denominator       1993 non-null float64\n",
      "dog_name                 1349 non-null object\n",
      "dog_stage                340 non-null object\n",
      "favorite_count           1993 non-null int64\n",
      "retweet_count            1993 non-null int64\n",
      "prediction_picture       1993 non-null object\n",
      "prediction_breed         1685 non-null object\n",
      "prediction_confidence    1685 non-null float64\n",
      "dtypes: float64(3), int64(3), object(8)\n",
      "memory usage: 218.1+ KB\n"
     ]
    }
   ],
   "source": [
    "df.info()"
   ]
  },
  {
   "cell_type": "code",
   "execution_count": 4,
   "metadata": {},
   "outputs": [],
   "source": [
    "# set datapoints to their appropriate types\n",
    "df['tweet_id'] = df['tweet_id'].astype(object)\n",
    "df['tweet_datetime'] = pd.to_datetime(df.tweet_datetime)\n",
    "df['tweet_source'] = df['tweet_source'].astype('category')\n",
    "df['dog_stage'] = df['dog_stage'].astype('category')"
   ]
  },
  {
   "cell_type": "code",
   "execution_count": 5,
   "metadata": {},
   "outputs": [
    {
     "name": "stdout",
     "output_type": "stream",
     "text": [
      "<class 'pandas.core.frame.DataFrame'>\n",
      "RangeIndex: 1993 entries, 0 to 1992\n",
      "Data columns (total 14 columns):\n",
      "tweet_id                 1993 non-null object\n",
      "tweet_datetime           1993 non-null datetime64[ns]\n",
      "tweet_source             1993 non-null category\n",
      "tweet_content            1993 non-null object\n",
      "tweet_url                1993 non-null object\n",
      "rating_numerator         1993 non-null float64\n",
      "rating_denominator       1993 non-null float64\n",
      "dog_name                 1349 non-null object\n",
      "dog_stage                340 non-null category\n",
      "favorite_count           1993 non-null int64\n",
      "retweet_count            1993 non-null int64\n",
      "prediction_picture       1993 non-null object\n",
      "prediction_breed         1685 non-null object\n",
      "prediction_confidence    1685 non-null float64\n",
      "dtypes: category(2), datetime64[ns](1), float64(3), int64(2), object(6)\n",
      "memory usage: 191.1+ KB\n"
     ]
    }
   ],
   "source": [
    "df.info()"
   ]
  },
  {
   "cell_type": "code",
   "execution_count": 6,
   "metadata": {},
   "outputs": [
    {
     "data": {
      "image/png": "[encoded data removed]",
      "text/plain": [
       "<matplotlib.figure.Figure at 0x270e9deacf8>"
      ]
     },
     "metadata": {},
     "output_type": "display_data"
    }
   ],
   "source": [
    "# code for the pie chart seen above\n",
    "sorted_counts = df['dog_stage'].value_counts()\n",
    "plt.pie(sorted_counts, labels = sorted_counts.index, autopct='%1.0f%%', pctdistance=0.78, startangle = 90,\n",
    "        counterclock = False, wedgeprops = {'width' : 0.4}, textprops={'fontsize': 12})\n",
    "plt.title('Dog Stages', y=1.18, fontdict={'fontsize': 14, 'fontweight' : 'semibold'})\n",
    "plt.axis('equal')\n",
    "fig = plt.gcf()\n",
    "fig.set_size_inches(5,5);"
   ]
  },
  {
   "cell_type": "code",
   "execution_count": null,
   "metadata": {},
   "outputs": [],
   "source": []
  }
 ],
 "metadata": {
  "kernelspec": {
   "display_name": "Python [default]",
   "language": "python",
   "name": "python3"
  },
  "language_info": {
   "codemirror_mode": {
    "name": "ipython",
    "version": 3
   },
   "file_extension": ".py",
   "mimetype": "text/x-python",
   "name": "python",
   "nbconvert_exporter": "python",
   "pygments_lexer": "ipython3",
   "version": "3.6.4"
  }
 },
 "nbformat": 4,
 "nbformat_minor": 2
}
